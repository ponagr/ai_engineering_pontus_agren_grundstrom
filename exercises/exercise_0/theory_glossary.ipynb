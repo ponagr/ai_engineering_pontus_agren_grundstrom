{
 "cells": [
  {
   "cell_type": "markdown",
   "id": "2e9407e9",
   "metadata": {},
   "source": [
    "## 2. Theory questions\n",
    "\n",
    "&nbsp; a) Why could it be good to combine duckdb and pandas?\n",
    "* duckdb is good for more complex queries with sql and is more effective for bigger ammounts of data, good for the base dataframe\n",
    "* pandas is then good for flexible plotting, manipulating, exploring and analyzing the data further, depending on what you want to see\n",
    "\n",
    "&nbsp; b) How do you create a DataFrame in Pandas from a dictionary, a list of dictionaries, and a CSV file, json object?\n",
    "* pd.DataFrame(dict) - for 1 dictionary\n",
    "* pd.DataFrame([dict, dict]) - for a list of dictionaries\n",
    "* pd.read_csv(\"path.csv\")\n",
    "* pd.read_json(\"path.json\")\n",
    "\n",
    "&nbsp; c) What is the difference between .loc[] and .iloc[] for indexing in Pandas?\n",
    "* .loc[\"string\"] locates a named index - label-based\n",
    "* .iloc[0] locates the actual index(number) - index-based\n",
    "\n",
    "&nbsp; d) What is the purpose of the .groupby() method in Pandas? How is it used in data aggregation?\n",
    "* to group by 1 or more columns, and then select columns that you want to aggregate with sum(), mean() etc.\n",
    "* df.groupby(\"col1\")[\"col2\"].mean()\n",
    "\n",
    "&nbsp; e) How do you export a pandas dataframe into a csv file?\n",
    "* ```df.to_csv(\"name.csv\")```\n",
    "\n",
    "&nbsp; f) How do you save a pandas dataframe into a duckdb database?\n",
    "* connect to the duckdb database with duckdb.connect and save connection as object\n",
    "```py\n",
    "    - con = duckdb.connect(\"db.duckdb\")\n",
    "```\n",
    "* use the duckdb connection-object and call .from_df-function, send in the dataframe object you want to save into the database\n",
    "* then call .create-function and enter prefered table name\n",
    "```py\n",
    "    - con.from_df(df).create(\"table_name\")\n",
    "```\n",
    "## Glossary\n",
    "\n",
    "Fill in this table either by copying this into your own markdown file or copy it into a spreadsheet if you feel that is easier to work with.\n",
    "\n",
    "| terminology           | explanation |\n",
    "| --------------------- | ----------- |\n",
    "| dataframe             | a 2D list, a set of multiple series, shows as a table with indexes, columns and rows            |\n",
    "| series                | a 1D list, a single column with multiple rows of data            |\n",
    "| pandas concat         | merges 2 dataframes into 1            |\n",
    "| pandas apply          | runs a function/lambda on all rows/columns             |\n",
    "| csv                   | a file, (comma separated values)            |\n",
    "| pandas isnull         | checks if a df or column contains null-values            |\n",
    "| masking in pandas     | filtering data using a boolean condition            |\n",
    "| pandas transpose      | .T flips rows and columns            |\n",
    "| pandas value_counts() | counts all unique values            |\n",
    "| json                  | (JavaScript Object Notation)a file containing structured data stored in key: value pairs(dictionaries)           |\n",
    "| tabular data          | data structured in rows and columns, like tables            |\n",
    "| zero-based indexing   | first element has index 0            |\n",
    "| join                  | joins different tables based on equal values from a selected column            |\n",
    "| left join             | joins all rows from left table + matches from right           |\n",
    "| inner join            | joins only data that match from both tables            |\n",
    "| group by              | groups a column to be able to aggregate data             |\n"
   ]
  }
 ],
 "metadata": {
  "kernelspec": {
   "display_name": "ai_engineering_pontus_agren_grundstrom",
   "language": "python",
   "name": "python3"
  },
  "language_info": {
   "name": "python",
   "version": "3.12.8"
  }
 },
 "nbformat": 4,
 "nbformat_minor": 5
}
