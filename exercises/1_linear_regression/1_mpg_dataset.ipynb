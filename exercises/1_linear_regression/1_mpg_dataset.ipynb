{
 "cells": [
  {
   "cell_type": "markdown",
   "id": "13cb210b",
   "metadata": {},
   "source": [
    "## 1. Linear regression on mpg dataset\n",
    "\n",
    "a) We want to predict the \"mpg\", split up X and y, and perform train|test split using scikit-learn. Choose test_size of 0.2 and random_state 42. Control the shapes of each X_train, X_test, y_train, y_test.\n",
    "\n",
    "b) Create a function for training a regression model, predicting and computing the metrics MAE, MSE, RMSE. It should take in parameters of X_train, X_test, y_train, y_test, model. Now create a linear regression model using scikit-learns `LinearRegression()` (OLS normal equation with SVD) and call your function to get metrics."
   ]
  },
  {
   "cell_type": "code",
   "execution_count": 1,
   "id": "65148157",
   "metadata": {},
   "outputs": [],
   "source": [
    "import pandas as pd\n",
    "from seaborn import load_dataset\n",
    "\n",
    "df = load_dataset(\"mpg\")\n",
    "df.head()\n",
    "df = df.dropna()"
   ]
  },
  {
   "cell_type": "code",
   "execution_count": 2,
   "id": "271b80d7",
   "metadata": {},
   "outputs": [
    {
     "data": {
      "text/plain": [
       "((392, 6),\n",
       " (392,),\n",
       "      cylinders  displacement  horsepower  weight  acceleration  model_year\n",
       " 0            8         307.0       130.0    3504          12.0          70\n",
       " 1            8         350.0       165.0    3693          11.5          70\n",
       " 2            8         318.0       150.0    3436          11.0          70\n",
       " 3            8         304.0       150.0    3433          12.0          70\n",
       " 4            8         302.0       140.0    3449          10.5          70\n",
       " ..         ...           ...         ...     ...           ...         ...\n",
       " 393          4         140.0        86.0    2790          15.6          82\n",
       " 394          4          97.0        52.0    2130          24.6          82\n",
       " 395          4         135.0        84.0    2295          11.6          82\n",
       " 396          4         120.0        79.0    2625          18.6          82\n",
       " 397          4         119.0        82.0    2720          19.4          82\n",
       " \n",
       " [392 rows x 6 columns],\n",
       " 0      18.0\n",
       " 1      15.0\n",
       " 2      18.0\n",
       " 3      16.0\n",
       " 4      17.0\n",
       "        ... \n",
       " 393    27.0\n",
       " 394    44.0\n",
       " 395    32.0\n",
       " 396    28.0\n",
       " 397    31.0\n",
       " Name: mpg, Length: 392, dtype: float64)"
      ]
     },
     "execution_count": 2,
     "metadata": {},
     "output_type": "execute_result"
    }
   ],
   "source": [
    "# a) We want to predict the \"mpg\", split up X and y, and perform train|test split using scikit-learn. Choose test_size of 0.2 and random_state 42. Control the shapes of each X_train, X_test, y_train, y_test.\n",
    "# .drop([\"mpg\", \"origin\", \"name\"], axis=1)\n",
    "X, y = df.drop([\"mpg\", \"origin\", \"name\"], axis=1), df[\"mpg\"]\n",
    "X.shape, y.shape, X, y"
   ]
  },
  {
   "cell_type": "code",
   "execution_count": null,
   "id": "afbfa00a",
   "metadata": {},
   "outputs": [
    {
     "name": "stdout",
     "output_type": "stream",
     "text": [
      "X_train.shape = (313, 6)\n",
      "y_train.shape = (313,)\n",
      "X_test.shape = (79, 6)\n",
      "y_test.shape = (79,)\n"
     ]
    }
   ],
   "source": [
    "from sklearn.model_selection import train_test_split\n",
    "# a) We want to predict the \"mpg\", split up X and y, and perform train|test split using scikit-learn. Choose test_size of 0.2 and random_state 42. Control the shapes of each X_train, X_test, y_train, y_test.\n",
    "X_train, X_test, y_train, y_test = train_test_split(X, y, test_size=0.2, random_state=42)\n",
    "\n",
    "print(f\"{X_train.shape = }\")\n",
    "print(f\"{y_train.shape = }\")\n",
    "print(f\"{X_test.shape = }\")\n",
    "print(f\"{y_test.shape = }\")"
   ]
  },
  {
   "cell_type": "code",
   "execution_count": 4,
   "id": "c6be0e61",
   "metadata": {},
   "outputs": [
    {
     "data": {
      "text/plain": [
       "cylinders  displacement  horsepower  weight  acceleration  model_year\n",
       "False      False         False       False   False         False         313\n",
       "Name: count, dtype: int64"
      ]
     },
     "execution_count": 4,
     "metadata": {},
     "output_type": "execute_result"
    }
   ],
   "source": [
    "x = X_train.isna().value_counts()\n",
    "x"
   ]
  },
  {
   "cell_type": "code",
   "execution_count": 5,
   "id": "227b0cf2",
   "metadata": {},
   "outputs": [
    {
     "name": "stdout",
     "output_type": "stream",
     "text": [
      "scaled_X_train.min() = np.float64(0.0)\n",
      "scaled_X_train.max() = np.float64(1.0)\n",
      "scaled_X_test.min() = np.float64(0.0)\n",
      "scaled_X_test.max() = np.float64(1.0)\n"
     ]
    }
   ],
   "source": [
    "from sklearn.preprocessing import MinMaxScaler\n",
    "\n",
    "scaler = MinMaxScaler()\n",
    "scaler.fit(X_train)\n",
    "scaled_X_train = scaler.transform(X_train)\n",
    "scaled_X_test = scaler.transform(X_test)\n",
    "\n",
    "print(f\"{scaled_X_train.min() = }\")\n",
    "print(f\"{scaled_X_train.max() = }\")\n",
    "\n",
    "print(f\"{scaled_X_test.min() = }\")\n",
    "print(f\"{scaled_X_test.max() = }\")"
   ]
  },
  {
   "cell_type": "markdown",
   "id": "8f65a252",
   "metadata": {},
   "source": [
    "#### b) Create a function for training a regression model, predicting and computing the metrics MAE, MSE, RMSE. It should take in parameters of X_train, X_test, y_train, y_test, model. Now create a linear regression model using scikit-learns `LinearRegression()` (OLS normal equation with SVD) and call your function to get metrics."
   ]
  },
  {
   "cell_type": "code",
   "execution_count": 6,
   "id": "6f89ff36",
   "metadata": {},
   "outputs": [
    {
     "name": "stdout",
     "output_type": "stream",
     "text": [
      "Parameters/weights : [-0.25265969  0.01173284  0.00139495 -0.00730947  0.16451236  0.76886821]\n",
      "Intercept (W0): -16.733448286299055\n"
     ]
    }
   ],
   "source": [
    "from sklearn.linear_model import LinearRegression\n",
    "# b) Create a function for training a regression model, predicting and computing the metrics MAE, MSE, RMSE. It should take in parameters of X_train, X_test, y_train, y_test, model. Now create a linear regression model using scikit-learns `LinearRegression()` (OLS normal equation with SVD) and call your function to get metrics.\n",
    "\n",
    "model = LinearRegression()\n",
    "model.fit(X_train, y_train)\n",
    "\n",
    "print(f\"Parameters/weights : {model.coef_}\")\n",
    "print(f\"Intercept (W0): {model.intercept_}\")"
   ]
  },
  {
   "cell_type": "code",
   "execution_count": 7,
   "id": "682df95f",
   "metadata": {},
   "outputs": [
    {
     "data": {
      "text/plain": [
       "array([18.45764677, 14.01197407, 19.84413793, 22.37456006, 23.5234372 ])"
      ]
     },
     "execution_count": 7,
     "metadata": {},
     "output_type": "execute_result"
    }
   ],
   "source": [
    "y_pred = model.predict(X_test)\n",
    "y_pred[:5]"
   ]
  },
  {
   "cell_type": "code",
   "execution_count": 8,
   "id": "69eb2908",
   "metadata": {},
   "outputs": [
    {
     "data": {
      "text/plain": [
       "162    15.0\n",
       "212    16.5\n",
       "153    18.0\n",
       "249    19.9\n",
       "193    24.0\n",
       "Name: mpg, dtype: float64"
      ]
     },
     "execution_count": 8,
     "metadata": {},
     "output_type": "execute_result"
    }
   ],
   "source": [
    "y_test.iloc[:5]"
   ]
  },
  {
   "cell_type": "code",
   "execution_count": 9,
   "id": "37c2bfdb",
   "metadata": {},
   "outputs": [
    {
     "name": "stdout",
     "output_type": "stream",
     "text": [
      "mae = 2.3871385331301505\n",
      "mse = 8.991759800495952\n",
      "rmse = 2.9986263189160387\n"
     ]
    }
   ],
   "source": [
    "from sklearn.metrics import mean_absolute_error, mean_squared_error, root_mean_squared_error\n",
    "\n",
    "mae = mean_absolute_error(y_test, y_pred)\n",
    "mse = mean_squared_error(y_test, y_pred)\n",
    "rmse = root_mean_squared_error(y_test, y_pred)\n",
    "\n",
    "print(f\"{mae = }\")\n",
    "print(f\"{mse = }\")\n",
    "print(f\"{rmse = }\")"
   ]
  }
 ],
 "metadata": {
  "kernelspec": {
   "display_name": "ai_engineering_pontus_agren_grundstrom",
   "language": "python",
   "name": "python3"
  },
  "language_info": {
   "codemirror_mode": {
    "name": "ipython",
    "version": 3
   },
   "file_extension": ".py",
   "mimetype": "text/x-python",
   "name": "python",
   "nbconvert_exporter": "python",
   "pygments_lexer": "ipython3",
   "version": "3.12.8"
  }
 },
 "nbformat": 4,
 "nbformat_minor": 5
}
