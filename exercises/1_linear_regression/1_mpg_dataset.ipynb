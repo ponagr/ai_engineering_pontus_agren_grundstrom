{
 "cells": [
  {
   "cell_type": "markdown",
   "id": "13cb210b",
   "metadata": {},
   "source": [
    "## 1. Linear regression on mpg dataset\n",
    "\n",
    "a) We want to predict the \"mpg\", split up X and y, and perform train|test split using scikit-learn. Choose test_size of 0.2 and random_state 42. Control the shapes of each X_train, X_test, y_train, y_test.\n",
    "\n",
    "b) Create a function for training a regression model, predicting and computing the metrics MAE, MSE, RMSE. It should take in parameters of X_train, X_test, y_train, y_test, model. Now create a linear regression model using scikit-learns `LinearRegression()` (OLS normal equation with SVD) and call your function to get metrics."
   ]
  }
 ],
 "metadata": {
  "language_info": {
   "name": "python"
  }
 },
 "nbformat": 4,
 "nbformat_minor": 5
}
