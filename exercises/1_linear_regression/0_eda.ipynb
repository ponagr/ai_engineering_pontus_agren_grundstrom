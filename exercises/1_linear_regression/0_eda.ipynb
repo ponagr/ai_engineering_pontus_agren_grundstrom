{
 "cells": [
  {
   "cell_type": "markdown",
   "id": "39bb3d6e",
   "metadata": {},
   "source": [
    "## 0. EDA (\\*)\n",
    "\n",
    "In the whole exercise, we will work with the \"mpg\" dataset from seaborn dataset. Start by loading dataset \"mpg\" from the `load_dataset` method in seaborn module. The goal will be to use linear regression to predict mpg - miles per gallon.\n",
    "\n",
    "a) Start by doing some initial EDA such as info(), describe() and figure out what you want to do with the missing values.\n",
    "\n",
    "b) Use describe only on those columns that are relevant to get statistical information from.\n",
    "\n",
    "c) Make some plots on some of the columns that you find interesting.\n",
    "\n",
    "d) Check if there are any columns you might want to drop."
   ]
  }
 ],
 "metadata": {
  "language_info": {
   "name": "python"
  }
 },
 "nbformat": 4,
 "nbformat_minor": 5
}
