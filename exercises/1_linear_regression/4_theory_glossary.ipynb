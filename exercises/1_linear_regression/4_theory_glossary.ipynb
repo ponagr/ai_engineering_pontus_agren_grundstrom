{
 "cells": [
  {
   "cell_type": "markdown",
   "id": "a672cc6b",
   "metadata": {},
   "source": [
    "## 4. Theory questions\n",
    "\n",
    "- a) Draw an illustration of how machine learning, deep learning and artificial intelligence relate to each other and explain it with your own words.\n",
    "    - **Artificial Intelligence (AI)**: The broad field of creating machines that can perform tasks that normally require human intelligence.\n",
    "        - **Machine Learning (ML)**: A subset of AI where systems learn patterns from data to make predictions or decisions without being explicitly programmed.\n",
    "            - **Deep Learning (DL)**: A subset of ML that uses neural networks with many layers to learn complex patterns, often used for images, text, and speech.\n",
    "- b) What is the main difference between regression and classification?\n",
    "    - **Regression**: Predicts a continuous numerical value.\n",
    "    - **Classification**: Predicts a discrete category or class.\n",
    "- c) Give an example of a problem that can be solved with regression\n",
    "    - To predict salary, based on education, experience and location.\n",
    "- d) What does scaling data mean, and why do some machine learning algorithm require data to be scaled?\n",
    "    - Scaling data is when you transform features to be within the same range, like between 0.0-1.0\n",
    "    - Some algorithms depend on the data being similar or between a specific numerical range to work or be reliable\n",
    "- e) What is the purpose to split the data into a training part and a test part?\n",
    "    - to hide a part of the data with right answers so you can evaluate the model on unseen data, to avoid data leakage and overfitting\n",
    "- f) What is data leakage, why is it bad and how can you avoid it?\n",
    "    - its bad because you give all the right answers when evaluating it, because it has already trained on the data, and gives a better outcome than it should, makes it unreliable to evaluate\n",
    "- g) What are some common evaluation metrics for regression models?\n",
    "    - mae, mse, rmse\n",
    "## Glossary\n",
    "\n",
    "Fill in this table either by copying this into your own markdown file or copy it into a spreadsheet if you feel that is easier to work with.\n",
    "\n",
    "| Terminology          | Meaning |\n",
    "| :------------------- | ------: |\n",
    "| supervised learning  | training a model with labeledd data(answers)        |\n",
    "| machine learning     | an AI system that learns patterns from data        |\n",
    "| data science         | extracting insights from data using statistics, ML and programming        |\n",
    "| data engineering     | builds systems that collect, clean and store data         |\n",
    "| algorithm            | step by step instructions to solve problems or perform tasks      |\n",
    "| regression           | predicting a continous numerical value        |\n",
    "| classification       | predicting a categorical value or class label        |\n",
    "| qualitative data     | non-numeric data describing categories or attributes        |\n",
    "| quantitative data    | numeric data that can be measured and counted        |\n",
    "| independent variable | feature, used as input to predict a target output        |\n",
    "| dependent variable   | target/label       |\n",
    "| label                | known values(answers) in supervised learning        |\n",
    "| feature              | input values used to make predictions        |\n",
    "| model                | learns from data to then make predictions based on algorithms       |\n",
    "| training             | giving data from features and labels to a model so it can train and learn patterns and predictions        |\n",
    "| evaluation           | testing the model on unseen data after it is trained, so evaluate accuracy        |\n",
    "| prediction           | output from the model, generated based on training data        |"
   ]
  }
 ],
 "metadata": {
  "language_info": {
   "name": "python"
  }
 },
 "nbformat": 4,
 "nbformat_minor": 5
}
