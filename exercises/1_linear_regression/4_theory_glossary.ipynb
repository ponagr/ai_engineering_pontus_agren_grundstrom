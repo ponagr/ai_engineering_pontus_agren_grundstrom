{
 "cells": [
  {
   "cell_type": "markdown",
   "id": "a672cc6b",
   "metadata": {},
   "source": [
    "## 4. Theory questions\n",
    "\n",
    "a) Draw an illustration of how machine learning, deep learning and artificial intelligence relate to each other and explain it with your own words.\n",
    "\n",
    "b) What is the main difference between regression and classification?\n",
    "\n",
    "c) Give an example of a problem that can be solved with regression\n",
    "\n",
    "d) What does scaling data mean, and why do some machine learning algorithm require data to be scaled?\n",
    "\n",
    "e) What is the purpose to split the data into a training part and a test part?\n",
    "\n",
    "f) What is data leakage, why is it bad and how can you avoid it?\n",
    "\n",
    "g) What are some common evaluation metrics for regression models?\n",
    "\n",
    "## Glossary\n",
    "\n",
    "Fill in this table either by copying this into your own markdown file or copy it into a spreadsheet if you feel that is easier to work with.\n",
    "\n",
    "| Terminology          | Meaning |\n",
    "| :------------------- | ------: |\n",
    "| supervised learning  |         |\n",
    "| machine learning     |         |\n",
    "| data science         |         |\n",
    "| data engineering     |         |\n",
    "| algorithm            |         |\n",
    "| regression           |         |\n",
    "| classification       |         |\n",
    "| qualitative data     |         |\n",
    "| quantitative data    |         |\n",
    "| independent variable |         |\n",
    "| dependent variable   |         |\n",
    "| label                |         |\n",
    "| feature              |         |\n",
    "| model                |         |\n",
    "| training             |         |\n",
    "| evaluation           |         |\n",
    "| prediction           |         |"
   ]
  }
 ],
 "metadata": {
  "language_info": {
   "name": "python"
  }
 },
 "nbformat": 4,
 "nbformat_minor": 5
}
