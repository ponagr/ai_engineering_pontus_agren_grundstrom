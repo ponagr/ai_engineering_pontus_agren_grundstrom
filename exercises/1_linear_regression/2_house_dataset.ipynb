{
 "cells": [
  {
   "cell_type": "markdown",
   "id": "7029ca20",
   "metadata": {},
   "source": [
    "## 2. Linear regression on house dataset\n",
    "\n",
    "Use this dataset on [house price prediction in kaggle](https://www.kaggle.com/datasets/shree1992/housedata/data), perform EDA on it and then predict the house prices using linear regression. You can drop the categorical features and the date columns. Then try ElasticNetCV and RidgeCV on the same dataset. Record the scores in a dataframe with the columns mae, mse, rmse so you can compare the models."
   ]
  }
 ],
 "metadata": {
  "language_info": {
   "name": "python"
  }
 },
 "nbformat": 4,
 "nbformat_minor": 5
}
