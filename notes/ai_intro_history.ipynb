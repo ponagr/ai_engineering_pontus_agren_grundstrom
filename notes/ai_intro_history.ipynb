{
 "cells": [
  {
   "cell_type": "markdown",
   "id": "5ae6a87e",
   "metadata": {},
   "source": [
    "## examples for AI applications\n",
    "- recognition system, facial, voice, sound etc\n",
    "- generation system for image, voice, music, video, games etc\n",
    "- recommender system for music, recepies, books, games, movies etc\n",
    "- chatbots\n",
    "- spamfilter in emails\n",
    "- targeted ads, social media feeds\n",
    "- 3D segmentation of MRI\n",
    "- LLMs\n",
    "- training, health, habits and structure apps/systems\n",
    "- design suggestions\n",
    "- enhancing systems for music, pictures, video etc"
   ]
  },
  {
   "cell_type": "markdown",
   "id": "3c9fece8",
   "metadata": {},
   "source": [
    "## what is AI?\n",
    "\n",
    "Refers to the simulation of human intelligence processes by computer systems. These processes include:\n",
    "- Learning(acquiring knowledge or skills through data, experience, or instructions)\n",
    "- Reasoning(applying logic to reach conclusions or solve problems)\n",
    "- Perception(interpreting sensory input, like vision or speech recognition)\n",
    "- Natural language processing(understanding and generating human language)\n",
    "- Decision-making(selecting actions based on learned or programmed criteria)\n",
    "In essence, AI aims to create machines or software capable of performing tasks that typically require human intelligence.\n",
    "\n",
    "**keys:**\n",
    "Learning, Reasoning, Perception, Language, Decisions\n",
    "logic, conclusions, problemsolving, vision/speech recognition, learning\n",
    "\n",
    "**systems**\n",
    "- intelligent behavior\n",
    "- learns from data\n",
    "- analyzing enviornments and take actions\n",
    "\n",
    "**sub areas**\n",
    "- machine learning\n",
    "- deep learning\n",
    "    - generative AI\n",
    "    - natural language processing\n",
    "    - computer vision\n",
    "\n",
    "**levels of AI**\n",
    "- ASI(artificial super intelligence)\n",
    "    - exceeds human intelligence in all aspects\n",
    "- AGI(artificial general intelligence)\n",
    "    - can solve all problems that humans can solve\n",
    "- narrow AI\n",
    "    - solves a narrow problem such a driving a car\n",
    "    - these systems exists today"
   ]
  },
  {
   "cell_type": "markdown",
   "id": "4ea20b67",
   "metadata": {},
   "source": [
    "## traditional rule-based system\n",
    "\n",
    "data (input)\n",
    "rules (if/else)\n",
    "result (output)\n",
    "\n",
    "the rules are set, and we send data to get an expected result\n",
    "rules become more and more complex the more factors we have\n",
    "\n",
    "## AI-based system\n",
    "\n",
    "data (input)\n",
    "result (input)\n",
    "rules (output)\n",
    "\n",
    "data and results is fed into an AI algoritm and it learns how to classify the rules"
   ]
  },
  {
   "cell_type": "markdown",
   "id": "87c479c4",
   "metadata": {},
   "source": [
    "## AI development historical timeline\n",
    "\n",
    "- 1940-1950\n",
    "    - mathematical model of a neuron\n",
    "- 1950-1960\n",
    "    - perceptron, neural network model\n",
    "- 1960-1970\n",
    "    - symbolic ai(if-statements)\n",
    "- 1970-1980\n",
    "    - ai winter(no more money/investments for ai-research)\n",
    "- 1980-1990\n",
    "    - expert systems\n",
    "- 1980-2020\n",
    "    - artificial neural networks\n",
    "        - 1990-2000\n",
    "            - ai winter\n",
    "        - 2000-2020\n",
    "            - machine learning\n",
    "        - 2010-2020\n",
    "            - deep learning\n",
    "        - 2020-\n",
    "            - generative ai(ai boom)\n",
    "\n",
    "**more data available and better hardware made this possible**"
   ]
  }
 ],
 "metadata": {
  "language_info": {
   "name": "python"
  }
 },
 "nbformat": 4,
 "nbformat_minor": 5
}
