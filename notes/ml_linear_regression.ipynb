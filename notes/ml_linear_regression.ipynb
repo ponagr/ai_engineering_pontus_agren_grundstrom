{
 "cells": [
  {
   "cell_type": "markdown",
   "id": "1d3fe2bc",
   "metadata": {},
   "source": [
    "### Algoritm för uträkning av linjär regression\n",
    "y=Kx+m - K=lutning, m=skärpunkt\n",
    "w1 motsvarar K, w0 motsvarar m\n",
    "y=W0+W1*x\n",
    "\n",
    "parametrarna ger en lutning och skärpunkt baserad på x värdet, och predictar värdet på y\n",
    "man försöker hitta rätt värden på W0 och W1, för att få rätt lutning och skärpunkt för att få fram rätt y värde baserat på x(så nära mittlinjen som möjligt)\n",
    "man vill minska felmarginalen så mycket som möjligt\n",
    "\n",
    "man minimerar felen i kvadrat, och summerar resultaten - Residual Sum of Squares(RSS)\n",
    "\n",
    "### number of features\n",
    "1 feature = simple linear regression\n",
    "n feature(flera features) = multiple linear regression, n dimensional plane, kan inte visualisera fler än 3 dimensioner\n",
    "\n",
    "\n",
    "**3b1b(3 blue 1 brown) - Youtube-konto om linjär regression, matte, machine learning**"
   ]
  },
  {
   "cell_type": "markdown",
   "id": "9edfff6e",
   "metadata": {},
   "source": [
    "### predictions with more features\n",
    "\n",
    "dataframes och dess kolumner används som features och label\n",
    "3 features(work experience, education years, area) och 1 label(income)\n",
    "skicka in 3 features för att predicta label\n",
    "\n",
    "### train|test split\n",
    "blandar och splittar datan till X_train, y_train, X_test, y_test, splittar en större del som train data och en mindre som test data\n",
    "sparar undan test datan, och använder träningsdatan för att träna en model att predicta rätt, jämför sedan med rätt svar från test datan i slutet \n",
    "\n",
    "3 features=X, 1 label=y\n",
    "genom att träna datan på X_train och y_train försöker vi hitta W0 och W1(vikter som bestämmer reglerna)\n",
    "efter vi tränat modellen kan vi predicta outcome(Y_pred) med X_test\n",
    "evaluate - jämför Y_pred mot Y_test\n",
    "\n",
    "### data leakage\n",
    "viktigt att inte använda/visa test data under träning, leder till data leakage(inte tillförlitlig data)"
   ]
  },
  {
   "cell_type": "markdown",
   "id": "bb89ec27",
   "metadata": {},
   "source": [
    "## metrics\n",
    "\n",
    "**mae(mean absolute error)** = den genomsnittliga differensen mellan prediction och faktiska svaret\n",
    "- $MAE = \\frac{1}{n}\\sum_{i=1}^{n} |y_i - \\hat{y}_i|$\n",
    "\n",
    "**mse(mean squared error)** = används för beräkning, inte lika nödvändig för att avgöra hur bra modellen är - räknar genomsnittet i kvadrat\n",
    "- $MSE = \\frac{1}{n}\\sum_{i=1}^{n} (y_i - \\hat{y}_i)^2$\n",
    "\n",
    "**rmse(root mean squared error)** = straffar större avvikelser - roten ur mse för att få fram likvärdigt värde(liknande format) som **mae**\n",
    "- $RMSE = \\sqrt{MSE}$\n"
   ]
  }
 ],
 "metadata": {
  "language_info": {
   "name": "python"
  }
 },
 "nbformat": 4,
 "nbformat_minor": 5
}
