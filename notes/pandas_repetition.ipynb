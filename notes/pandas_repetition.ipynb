{
 "cells": [
  {
   "cell_type": "markdown",
   "id": "b0ee5886",
   "metadata": {},
   "source": [
    "## pd.read_csv\n",
    "\n",
    "- parse_date=True - lägger till datum i en kolumn, gör det lättare att filtrera på\n",
    "\n",
    "## df.describe\n",
    "\n",
    "- .T - Transpose, vänder på kolumn och rad(kolumner blir rader, rader blir kolumner)\n",
    "\n",
    "## Dataframe axis\n",
    "\n",
    "- axis=1 - kolumner\n",
    "- axis=0 - rader"
   ]
  }
 ],
 "metadata": {
  "language_info": {
   "name": "python"
  }
 },
 "nbformat": 4,
 "nbformat_minor": 5
}
